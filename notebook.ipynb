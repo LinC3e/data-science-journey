{
 "cells": [
  {
   "cell_type": "markdown",
   "source": [
    "# Text mining\n",
    "- Extract keywords from the text\n",
    "- Visualize the result"
   ],
   "metadata": {
    "collapsed": false
   },
   "id": "be834f7c6de712d6"
  },
  {
   "cell_type": "code",
   "execution_count": null,
   "outputs": [],
   "source": [],
   "metadata": {
    "collapsed": false
   },
   "id": "4b2ae1d1a384961c"
  }
 ],
 "metadata": {
  "kernelspec": {
   "display_name": "Python 3",
   "language": "python",
   "name": "python3"
  },
  "language_info": {
   "codemirror_mode": {
    "name": "ipython",
    "version": 2
   },
   "file_extension": ".py",
   "mimetype": "text/x-python",
   "name": "python",
   "nbconvert_exporter": "python",
   "pygments_lexer": "ipython2",
   "version": "2.7.6"
  }
 },
 "nbformat": 4,
 "nbformat_minor": 5
}
